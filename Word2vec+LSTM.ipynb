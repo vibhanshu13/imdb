{
 "cells": [
  {
   "cell_type": "markdown",
   "metadata": {},
   "source": [
    "[Research Paper Link](https://ieeexplore.ieee.org/document/8249013/metrics#metrics)"
   ]
  },
  {
   "cell_type": "markdown",
   "metadata": {},
   "source": [
    "##### Importing Dependencies"
   ]
  },
  {
   "cell_type": "code",
   "execution_count": 46,
   "metadata": {},
   "outputs": [],
   "source": [
    "import codecs\n",
    "import glob\n",
    "import logging\n",
    "import multiprocessing\n",
    "import os\n",
    "import pprint\n",
    "import re\n",
    "import numpy as np\n",
    "import nltk\n",
    "from gensim.models import Word2Vec\n",
    "import sklearn.manifold\n",
    "import numpy as np\n",
    "import matplotlib.pyplot as plt\n",
    "import pandas as pd\n",
    "import seaborn as sns\n",
    "\n",
    "from nltk.tokenize import WordPunctTokenizer\n",
    "from collections import Counter\n",
    "from string import punctuation, ascii_lowercase\n",
    "import re\n",
    "from tqdm import tqdm"
   ]
  },
  {
   "cell_type": "markdown",
   "metadata": {},
   "source": [
    "### Setting working directory"
   ]
  },
  {
   "cell_type": "code",
   "execution_count": 47,
   "metadata": {},
   "outputs": [
    {
     "name": "stdout",
     "output_type": "stream",
     "text": [
      "C:\\Users\\vibhanshuv\\Downloads\\Case Study 1\\aclImdb\n"
     ]
    }
   ],
   "source": [
    "% cd \"C:\\Users\\vibhanshuv\\Downloads\\Case Study 1\\aclImdb\""
   ]
  },
  {
   "cell_type": "markdown",
   "metadata": {},
   "source": [
    "### Importing csv files"
   ]
  },
  {
   "cell_type": "code",
   "execution_count": 48,
   "metadata": {},
   "outputs": [],
   "source": [
    "train_df=pd.read_csv('pre_train.csv',sep=\",\")\n",
    "test_df=pd.read_csv('pre_test.csv',sep=\",\")"
   ]
  },
  {
   "cell_type": "markdown",
   "metadata": {},
   "source": [
    "### Shuffling the datasets"
   ]
  },
  {
   "cell_type": "code",
   "execution_count": 49,
   "metadata": {},
   "outputs": [],
   "source": [
    "train_df=train_df.reindex(np.random.permutation(train_df.index))\n",
    "test_df=test_df.reindex(np.random.permutation(test_df.index))"
   ]
  },
  {
   "cell_type": "code",
   "execution_count": 50,
   "metadata": {},
   "outputs": [],
   "source": [
    "Y_train=train_df['sentiment']\n",
    "Y_test=test_df['sentiment']"
   ]
  },
  {
   "cell_type": "code",
   "execution_count": 51,
   "metadata": {},
   "outputs": [],
   "source": [
    "tokenizer = WordPunctTokenizer()\n",
    "vocab = Counter()"
   ]
  },
  {
   "cell_type": "code",
   "execution_count": 52,
   "metadata": {},
   "outputs": [],
   "source": [
    "def text_to_wordlist(text, lower=False):\n",
    "  \n",
    "    # Tokenize\n",
    "    text = tokenizer.tokenize(text)\n",
    "    \n",
    "    # optional: lower case\n",
    "    if lower:\n",
    "        text = [t.lower() for t in text]\n",
    "    \n",
    "    # Return a list of words\n",
    "    vocab.update(text)\n",
    "    return text"
   ]
  },
  {
   "cell_type": "code",
   "execution_count": 53,
   "metadata": {},
   "outputs": [],
   "source": [
    "def process_comments(list_sentences, lower=False):\n",
    "    comments = []\n",
    "    for text in tqdm(list_sentences):\n",
    "        txt = text_to_wordlist(text, lower=lower)\n",
    "        comments.append(txt)\n",
    "    return comments"
   ]
  },
  {
   "cell_type": "code",
   "execution_count": 54,
   "metadata": {},
   "outputs": [],
   "source": [
    "list_sentences_train = list(train_df[\"words_sent\"].values)\n",
    "list_sentences_test = list(test_df[\"words_sent\"].values)"
   ]
  },
  {
   "cell_type": "code",
   "execution_count": 55,
   "metadata": {},
   "outputs": [
    {
     "name": "stderr",
     "output_type": "stream",
     "text": [
      "100%|█████████████████████████████████████████████████████████████████████████| 50000/50000 [00:04<00:00, 11054.18it/s]\n"
     ]
    }
   ],
   "source": [
    "comments = process_comments(list_sentences_train + list_sentences_test, lower=True)"
   ]
  },
  {
   "cell_type": "code",
   "execution_count": 56,
   "metadata": {},
   "outputs": [
    {
     "name": "stdout",
     "output_type": "stream",
     "text": [
      "The vocabulary contains 98201 unique tokens\n"
     ]
    }
   ],
   "source": [
    "print(\"The vocabulary contains {} unique tokens\".format(len(vocab)))"
   ]
  },
  {
   "cell_type": "code",
   "execution_count": 57,
   "metadata": {},
   "outputs": [],
   "source": [
    "model = Word2Vec(comments, window=5, size=100,min_count=5, workers=16, sg=0, negative=5)"
   ]
  },
  {
   "cell_type": "code",
   "execution_count": 60,
   "metadata": {},
   "outputs": [],
   "source": [
    "word_vectors = model.wv"
   ]
  },
  {
   "cell_type": "code",
   "execution_count": 61,
   "metadata": {},
   "outputs": [],
   "source": [
    "def w2v_preprocessing(df):\n",
    "    \"\"\" All the preprocessing steps for word2vec are done in this function.\n",
    "    All mutations are done on the dataframe itself. So this function returns\n",
    "    nothing.\n",
    "    \"\"\"\n",
    "    df['text'] = df.description.str.lower()\n",
    "    df['document_sentences'] = df.text.str.split('.')  # split texts into individual sentences\n",
    "    df['tokenized_sentences'] = list(map(lambda sentences:\n",
    "                                         list(map(nltk.word_tokenize, sentences)),\n",
    "                                         df.document_sentences))  # tokenize sentences\n",
    "    df['tokenized_sentences'] = list(map(lambda sentences:\n",
    "                                         list(filter(lambda lst: lst, sentences)),\n",
    "                                         df.tokenized_sentences))  # remove empty lists"
   ]
  },
  {
   "cell_type": "code",
   "execution_count": 62,
   "metadata": {},
   "outputs": [],
   "source": [
    "w2v_preprocessing(train_df)\n",
    "\n",
    "w2v_preprocessing(test_df)"
   ]
  },
  {
   "cell_type": "code",
   "execution_count": 63,
   "metadata": {},
   "outputs": [],
   "source": [
    "def get_w2v_features(w2v_model, sentence_group):\n",
    "    \"\"\" Transform a sentence_group (containing multiple lists\n",
    "    of words) into a feature vector. It averages out all the\n",
    "    word vectors of the sentence_group.\n",
    "    \"\"\"\n",
    "    words = np.concatenate(sentence_group)  # words in text\n",
    "    index2word_set = set(w2v_model.wv.vocab.keys())  # words known to model\n",
    "    \n",
    "    featureVec = np.zeros(w2v_model.vector_size, dtype=\"float32\")\n",
    "    \n",
    "    # Initialize a counter for number of words in a review\n",
    "    nwords = 0\n",
    "    # Loop over each word in the comment and, if it is in the model's vocabulary, add its feature vector to the total\n",
    "    for word in words:\n",
    "        if word in index2word_set: \n",
    "            featureVec = np.add(featureVec, w2v_model[word])\n",
    "            nwords += 1.\n",
    "\n",
    "    # Divide the result by the number of words to get the average\n",
    "    if nwords > 0:\n",
    "        featureVec = np.divide(featureVec, nwords)\n",
    "    return featureVec"
   ]
  },
  {
   "cell_type": "code",
   "execution_count": 64,
   "metadata": {},
   "outputs": [
    {
     "name": "stderr",
     "output_type": "stream",
     "text": [
      "C:\\Users\\vibhanshuv\\AppData\\Local\\Continuum\\anaconda3\\lib\\site-packages\\ipykernel_launcher.py:16: DeprecationWarning: Call to deprecated `__getitem__` (Method will be removed in 4.0.0, use self.wv.__getitem__() instead).\n",
      "  app.launch_new_instance()\n"
     ]
    }
   ],
   "source": [
    "train_df['w2v_features'] = list(map(lambda sen_group:\n",
    "                                      get_w2v_features(model, sen_group),\n",
    "                                      train_df.tokenized_sentences))\n",
    "\n",
    "test_df['w2v_features'] = list(map(lambda sen_group:\n",
    "                                      get_w2v_features(model, sen_group),\n",
    "                                      test_df.tokenized_sentences))"
   ]
  },
  {
   "cell_type": "code",
   "execution_count": 65,
   "metadata": {},
   "outputs": [],
   "source": [
    "X_train_w2v = np.array(list(map(np.array, train_df.w2v_features)))    \n",
    "\n",
    "X_test_w2v = np.array(list(map(np.array, test_df.w2v_features)))   "
   ]
  },
  {
   "cell_type": "code",
   "execution_count": 66,
   "metadata": {},
   "outputs": [],
   "source": [
    "X_train_w2v = np.reshape(X_train_w2v, X_train_w2v.shape + (1,))\n",
    "X_test_w2v = np.reshape(X_test_w2v, X_test_w2v.shape + (1,))"
   ]
  },
  {
   "cell_type": "code",
   "execution_count": 67,
   "metadata": {},
   "outputs": [],
   "source": [
    "import os\n",
    "os.environ['TF_CPP_MIN_LOG_LEVEL']='2'"
   ]
  },
  {
   "cell_type": "code",
   "execution_count": 68,
   "metadata": {},
   "outputs": [
    {
     "name": "stderr",
     "output_type": "stream",
     "text": [
      "C:\\Users\\vibhanshuv\\AppData\\Local\\Continuum\\anaconda3\\lib\\site-packages\\h5py\\__init__.py:36: FutureWarning: Conversion of the second argument of issubdtype from `float` to `np.floating` is deprecated. In future, it will be treated as `np.float64 == np.dtype(float).type`.\n",
      "  from ._conv import register_converters as _register_converters\n",
      "Using TensorFlow backend.\n"
     ]
    }
   ],
   "source": [
    "from keras.layers import Dense, Dropout, Activation, Embedding\n",
    "from keras.layers import LSTM\n",
    "from keras.layers import Conv1D, MaxPooling1D\n",
    "from keras.layers import concatenate\n",
    "from keras.layers import Input\n",
    "from keras.models import Model\n",
    "from keras.layers import Flatten\n",
    "import tensorflow as tf\n",
    "from keras.layers import BatchNormalization\n",
    "from keras.layers import Bidirectional\n",
    "from keras.callbacks import EarlyStopping, ModelCheckpoint, ReduceLROnPlateau"
   ]
  },
  {
   "cell_type": "code",
   "execution_count": 69,
   "metadata": {},
   "outputs": [],
   "source": [
    "from keras import backend as K\n",
    "K.set_session(K.tf.Session(config=K.tf.ConfigProto(intra_op_parallelism_threads=32, inter_op_parallelism_threads=32)))"
   ]
  },
  {
   "cell_type": "code",
   "execution_count": 72,
   "metadata": {},
   "outputs": [
    {
     "name": "stdout",
     "output_type": "stream",
     "text": [
      "__________________________________________________________________________________________________\n",
      "Layer (type)                    Output Shape         Param #     Connected to                     \n",
      "==================================================================================================\n",
      "input_2 (InputLayer)            (None, 100, 1)       0                                            \n",
      "__________________________________________________________________________________________________\n",
      "conv1d_5 (Conv1D)               (None, 100, 128)     512         input_2[0][0]                    \n",
      "__________________________________________________________________________________________________\n",
      "conv1d_6 (Conv1D)               (None, 100, 128)     768         input_2[0][0]                    \n",
      "__________________________________________________________________________________________________\n",
      "conv1d_7 (Conv1D)               (None, 100, 128)     1024        input_2[0][0]                    \n",
      "__________________________________________________________________________________________________\n",
      "conv1d_8 (Conv1D)               (None, 100, 128)     1280        input_2[0][0]                    \n",
      "__________________________________________________________________________________________________\n",
      "max_pooling1d_5 (MaxPooling1D)  (None, 50, 128)      0           conv1d_5[0][0]                   \n",
      "__________________________________________________________________________________________________\n",
      "max_pooling1d_6 (MaxPooling1D)  (None, 50, 128)      0           conv1d_6[0][0]                   \n",
      "__________________________________________________________________________________________________\n",
      "max_pooling1d_7 (MaxPooling1D)  (None, 50, 128)      0           conv1d_7[0][0]                   \n",
      "__________________________________________________________________________________________________\n",
      "max_pooling1d_8 (MaxPooling1D)  (None, 50, 128)      0           conv1d_8[0][0]                   \n",
      "__________________________________________________________________________________________________\n",
      "dropout_5 (Dropout)             (None, 50, 128)      0           max_pooling1d_5[0][0]            \n",
      "__________________________________________________________________________________________________\n",
      "dropout_6 (Dropout)             (None, 50, 128)      0           max_pooling1d_6[0][0]            \n",
      "__________________________________________________________________________________________________\n",
      "dropout_7 (Dropout)             (None, 50, 128)      0           max_pooling1d_7[0][0]            \n",
      "__________________________________________________________________________________________________\n",
      "dropout_8 (Dropout)             (None, 50, 128)      0           max_pooling1d_8[0][0]            \n",
      "__________________________________________________________________________________________________\n",
      "batch_normalization_5 (BatchNor (None, 50, 128)      512         dropout_5[0][0]                  \n",
      "__________________________________________________________________________________________________\n",
      "batch_normalization_6 (BatchNor (None, 50, 128)      512         dropout_6[0][0]                  \n",
      "__________________________________________________________________________________________________\n",
      "batch_normalization_7 (BatchNor (None, 50, 128)      512         dropout_7[0][0]                  \n",
      "__________________________________________________________________________________________________\n",
      "batch_normalization_8 (BatchNor (None, 50, 128)      512         dropout_8[0][0]                  \n",
      "__________________________________________________________________________________________________\n",
      "bidirectional_5 (Bidirectional) (None, 256)          263168      batch_normalization_5[0][0]      \n",
      "__________________________________________________________________________________________________\n",
      "bidirectional_6 (Bidirectional) (None, 256)          263168      batch_normalization_6[0][0]      \n",
      "__________________________________________________________________________________________________\n",
      "bidirectional_7 (Bidirectional) (None, 256)          263168      batch_normalization_7[0][0]      \n",
      "__________________________________________________________________________________________________\n",
      "bidirectional_8 (Bidirectional) (None, 256)          263168      batch_normalization_8[0][0]      \n",
      "__________________________________________________________________________________________________\n",
      "concatenate_2 (Concatenate)     (None, 1024)         0           bidirectional_5[0][0]            \n",
      "                                                                 bidirectional_6[0][0]            \n",
      "                                                                 bidirectional_7[0][0]            \n",
      "                                                                 bidirectional_8[0][0]            \n",
      "__________________________________________________________________________________________________\n",
      "dense_2 (Dense)                 (None, 1)            1025        concatenate_2[0][0]              \n",
      "==================================================================================================\n",
      "Total params: 1,059,329\n",
      "Trainable params: 1,058,305\n",
      "Non-trainable params: 1,024\n",
      "__________________________________________________________________________________________________\n"
     ]
    }
   ],
   "source": [
    "inputs = Input((X_train_w2v.shape[1],1))\n",
    "convnet1=Conv1D(128,(3),padding='same',activation='relu')(inputs)\n",
    "max1=MaxPooling1D(pool_size=2)(convnet1)\n",
    "drop1=Dropout(rate=0.5)(max1)\n",
    "Batchnorm1=BatchNormalization()(drop1)\n",
    "lstm1=Bidirectional(LSTM(units=128))(Batchnorm1) \n",
    "\n",
    "convnet2=Conv1D(128,(5),padding='same',activation='relu')(inputs)\n",
    "max2=MaxPooling1D(pool_size=2)(convnet2)\n",
    "drop2=Dropout(rate=0.5)(max2)\n",
    "Batchnorm2=BatchNormalization()(drop2)\n",
    "lstm2=Bidirectional(LSTM(units=128))(Batchnorm2)\n",
    "\n",
    "convnet3=Conv1D(128,(7),padding='same',activation='relu')(inputs)\n",
    "max3=MaxPooling1D(pool_size=2)(convnet3)\n",
    "drop3=Dropout(rate=0.5)(max3)\n",
    "Batchnorm3=BatchNormalization()(drop3)\n",
    "lstm3=Bidirectional(LSTM(units=128))(Batchnorm3)\n",
    "\n",
    "convnet4=Conv1D(128,(9),padding='same',activation='relu')(inputs)\n",
    "max4=MaxPooling1D(pool_size=2)(convnet4)\n",
    "drop4=Dropout(rate=0.5)(max4)\n",
    "Batchnorm4=BatchNormalization()(drop4)\n",
    "lstm4=Bidirectional(LSTM(units=128))(Batchnorm4)\n",
    "\n",
    "merged=concatenate([lstm1,lstm2,lstm3,lstm4])\n",
    "\n",
    "out=Dense(1, activation='sigmoid')(merged)\n",
    "model = Model(inputs=inputs, outputs=out)\n",
    "model.summary()"
   ]
  },
  {
   "cell_type": "code",
   "execution_count": 73,
   "metadata": {},
   "outputs": [],
   "source": [
    "model.compile(loss='binary_crossentropy',\n",
    "              optimizer='adam',\n",
    "              metrics=['accuracy'])\n",
    "\n",
    "\n",
    "early_stopping = EarlyStopping(monitor='acc', mode = 'max',patience=20, verbose=1)\n",
    "model_checkpoint = ModelCheckpoint('cnn+lstm',monitor='acc', \n",
    "                                   mode = 'max', save_best_only=True, verbose=1)\n",
    "reduce_lr = ReduceLROnPlateau(monitor='acc', mode = 'max',factor=0.5, patience=5, min_lr=0.0001, verbose=1)"
   ]
  },
  {
   "cell_type": "code",
   "execution_count": 74,
   "metadata": {},
   "outputs": [
    {
     "name": "stdout",
     "output_type": "stream",
     "text": [
      "Train on 20000 samples, validate on 5000 samples\n",
      "Epoch 1/50\n",
      " - 320s - loss: 0.5112 - acc: 0.7421 - val_loss: 0.4561 - val_acc: 0.7822\n",
      "\n",
      "Epoch 00001: acc improved from -inf to 0.74215, saving model to cnn+lstm\n",
      "Epoch 2/50\n",
      " - 305s - loss: 0.4414 - acc: 0.7985 - val_loss: 0.4279 - val_acc: 0.8088\n",
      "\n",
      "Epoch 00002: acc improved from 0.74215 to 0.79855, saving model to cnn+lstm\n",
      "Epoch 3/50\n",
      " - 310s - loss: 0.4233 - acc: 0.8084 - val_loss: 0.4155 - val_acc: 0.8234\n",
      "\n",
      "Epoch 00003: acc improved from 0.79855 to 0.80835, saving model to cnn+lstm\n",
      "Epoch 4/50\n",
      " - 282s - loss: 0.4119 - acc: 0.8116 - val_loss: 0.4195 - val_acc: 0.8204\n",
      "\n",
      "Epoch 00004: acc improved from 0.80835 to 0.81160, saving model to cnn+lstm\n",
      "Epoch 5/50\n",
      " - 286s - loss: 0.4028 - acc: 0.8192 - val_loss: 0.4149 - val_acc: 0.8254\n",
      "\n",
      "Epoch 00005: acc improved from 0.81160 to 0.81915, saving model to cnn+lstm\n",
      "Epoch 6/50\n",
      " - 303s - loss: 0.4010 - acc: 0.8199 - val_loss: 0.3981 - val_acc: 0.8328\n",
      "\n",
      "Epoch 00006: acc improved from 0.81915 to 0.81985, saving model to cnn+lstm\n",
      "Epoch 7/50\n",
      " - 309s - loss: 0.3952 - acc: 0.8218 - val_loss: 0.3658 - val_acc: 0.8392\n",
      "\n",
      "Epoch 00007: acc improved from 0.81985 to 0.82175, saving model to cnn+lstm\n",
      "Epoch 8/50\n",
      " - 323s - loss: 0.3898 - acc: 0.8254 - val_loss: 0.3678 - val_acc: 0.8362\n",
      "\n",
      "Epoch 00008: acc improved from 0.82175 to 0.82540, saving model to cnn+lstm\n",
      "Epoch 9/50\n",
      " - 324s - loss: 0.3835 - acc: 0.8303 - val_loss: 0.3703 - val_acc: 0.8426\n",
      "\n",
      "Epoch 00009: acc improved from 0.82540 to 0.83035, saving model to cnn+lstm\n",
      "Epoch 10/50\n",
      " - 325s - loss: 0.3793 - acc: 0.8320 - val_loss: 0.3648 - val_acc: 0.8414\n",
      "\n",
      "Epoch 00010: acc improved from 0.83035 to 0.83200, saving model to cnn+lstm\n",
      "Epoch 11/50\n",
      " - 326s - loss: 0.3757 - acc: 0.8357 - val_loss: 0.3651 - val_acc: 0.8482\n",
      "\n",
      "Epoch 00011: acc improved from 0.83200 to 0.83575, saving model to cnn+lstm\n",
      "Epoch 12/50\n",
      " - 325s - loss: 0.3718 - acc: 0.8354 - val_loss: 0.3712 - val_acc: 0.8418\n",
      "\n",
      "Epoch 00012: acc did not improve from 0.83575\n",
      "Epoch 13/50\n",
      " - 323s - loss: 0.3723 - acc: 0.8335 - val_loss: 0.3814 - val_acc: 0.8352\n",
      "\n",
      "Epoch 00013: acc did not improve from 0.83575\n",
      "Epoch 14/50\n",
      " - 350s - loss: 0.3738 - acc: 0.8360 - val_loss: 0.3902 - val_acc: 0.8360\n",
      "\n",
      "Epoch 00014: acc improved from 0.83575 to 0.83605, saving model to cnn+lstm\n",
      "Epoch 15/50\n",
      " - 297s - loss: 0.3711 - acc: 0.8363 - val_loss: 0.3611 - val_acc: 0.8454\n",
      "\n",
      "Epoch 00015: acc improved from 0.83605 to 0.83625, saving model to cnn+lstm\n",
      "Epoch 16/50\n",
      " - 293s - loss: 0.3669 - acc: 0.8376 - val_loss: 0.3684 - val_acc: 0.8388\n",
      "\n",
      "Epoch 00016: acc improved from 0.83625 to 0.83760, saving model to cnn+lstm\n",
      "Epoch 17/50\n",
      " - 293s - loss: 0.3665 - acc: 0.8385 - val_loss: 0.3834 - val_acc: 0.8404\n",
      "\n",
      "Epoch 00017: acc improved from 0.83760 to 0.83855, saving model to cnn+lstm\n",
      "Epoch 18/50\n",
      " - 298s - loss: 0.3670 - acc: 0.8396 - val_loss: 0.3546 - val_acc: 0.8518\n",
      "\n",
      "Epoch 00018: acc improved from 0.83855 to 0.83965, saving model to cnn+lstm\n",
      "Epoch 19/50\n",
      " - 293s - loss: 0.3596 - acc: 0.8420 - val_loss: 0.3645 - val_acc: 0.8438\n",
      "\n",
      "Epoch 00019: acc improved from 0.83965 to 0.84205, saving model to cnn+lstm\n",
      "Epoch 20/50\n",
      " - 293s - loss: 0.3614 - acc: 0.8417 - val_loss: 0.3895 - val_acc: 0.8342\n",
      "\n",
      "Epoch 00020: acc did not improve from 0.84205\n",
      "Epoch 21/50\n",
      " - 294s - loss: 0.3582 - acc: 0.8429 - val_loss: 0.3891 - val_acc: 0.8426\n",
      "\n",
      "Epoch 00021: acc improved from 0.84205 to 0.84295, saving model to cnn+lstm\n",
      "Epoch 22/50\n",
      " - 292s - loss: 0.3548 - acc: 0.8431 - val_loss: 0.3682 - val_acc: 0.8464\n",
      "\n",
      "Epoch 00022: acc improved from 0.84295 to 0.84315, saving model to cnn+lstm\n",
      "Epoch 23/50\n",
      " - 295s - loss: 0.3594 - acc: 0.8443 - val_loss: 0.3785 - val_acc: 0.8452\n",
      "\n",
      "Epoch 00023: acc improved from 0.84315 to 0.84425, saving model to cnn+lstm\n",
      "Epoch 24/50\n",
      " - 300s - loss: 0.3526 - acc: 0.8464 - val_loss: 0.4039 - val_acc: 0.8300\n",
      "\n",
      "Epoch 00024: acc improved from 0.84425 to 0.84640, saving model to cnn+lstm\n",
      "Epoch 25/50\n",
      " - 317s - loss: 0.3576 - acc: 0.8437 - val_loss: 0.3667 - val_acc: 0.8396\n",
      "\n",
      "Epoch 00025: acc did not improve from 0.84640\n",
      "Epoch 26/50\n",
      " - 308s - loss: 0.3563 - acc: 0.8425 - val_loss: 0.3907 - val_acc: 0.8274\n",
      "\n",
      "Epoch 00026: acc did not improve from 0.84640\n",
      "Epoch 27/50\n",
      " - 307s - loss: 0.3531 - acc: 0.8431 - val_loss: 0.3728 - val_acc: 0.8414\n",
      "\n",
      "Epoch 00027: acc did not improve from 0.84640\n",
      "Epoch 28/50\n",
      " - 337s - loss: 0.3540 - acc: 0.8458 - val_loss: 0.3890 - val_acc: 0.8376\n",
      "\n",
      "Epoch 00028: acc did not improve from 0.84640\n",
      "Epoch 29/50\n",
      " - 361s - loss: 0.3493 - acc: 0.8463 - val_loss: 0.3798 - val_acc: 0.8412\n",
      "\n",
      "Epoch 00029: acc did not improve from 0.84640\n",
      "\n",
      "Epoch 00029: ReduceLROnPlateau reducing learning rate to 0.0005000000237487257.\n",
      "Epoch 30/50\n",
      " - 321s - loss: 0.3423 - acc: 0.8504 - val_loss: 0.3780 - val_acc: 0.8426\n",
      "\n",
      "Epoch 00030: acc improved from 0.84640 to 0.85040, saving model to cnn+lstm\n",
      "Epoch 31/50\n",
      " - 309s - loss: 0.3360 - acc: 0.8525 - val_loss: 0.3768 - val_acc: 0.8446\n",
      "\n",
      "Epoch 00031: acc improved from 0.85040 to 0.85250, saving model to cnn+lstm\n",
      "Epoch 32/50\n",
      " - 306s - loss: 0.3346 - acc: 0.8516 - val_loss: 0.3721 - val_acc: 0.8410\n",
      "\n",
      "Epoch 00032: acc did not improve from 0.85250\n",
      "Epoch 33/50\n",
      " - 330s - loss: 0.3318 - acc: 0.8557 - val_loss: 0.3629 - val_acc: 0.8480\n",
      "\n",
      "Epoch 00033: acc improved from 0.85250 to 0.85570, saving model to cnn+lstm\n",
      "Epoch 34/50\n",
      " - 326s - loss: 0.3309 - acc: 0.8548 - val_loss: 0.3875 - val_acc: 0.8374\n",
      "\n",
      "Epoch 00034: acc did not improve from 0.85570\n",
      "Epoch 35/50\n",
      " - 314s - loss: 0.3277 - acc: 0.8568 - val_loss: 0.4381 - val_acc: 0.8122\n",
      "\n",
      "Epoch 00035: acc improved from 0.85570 to 0.85680, saving model to cnn+lstm\n",
      "Epoch 36/50\n",
      " - 322s - loss: 0.3231 - acc: 0.8581 - val_loss: 0.3805 - val_acc: 0.8382\n",
      "\n",
      "Epoch 00036: acc improved from 0.85680 to 0.85815, saving model to cnn+lstm\n",
      "Epoch 37/50\n",
      " - 298s - loss: 0.3227 - acc: 0.8597 - val_loss: 0.3689 - val_acc: 0.8474\n",
      "\n",
      "Epoch 00037: acc improved from 0.85815 to 0.85970, saving model to cnn+lstm\n",
      "Epoch 38/50\n",
      " - 303s - loss: 0.3237 - acc: 0.8576 - val_loss: 0.3650 - val_acc: 0.8474\n",
      "\n",
      "Epoch 00038: acc did not improve from 0.85970\n",
      "Epoch 39/50\n",
      " - 332s - loss: 0.3197 - acc: 0.8617 - val_loss: 0.3741 - val_acc: 0.8414\n",
      "\n",
      "Epoch 00039: acc improved from 0.85970 to 0.86165, saving model to cnn+lstm\n",
      "Epoch 40/50\n",
      " - 349s - loss: 0.3168 - acc: 0.8634 - val_loss: 0.3760 - val_acc: 0.8436\n",
      "\n",
      "Epoch 00040: acc improved from 0.86165 to 0.86335, saving model to cnn+lstm\n",
      "Epoch 41/50\n",
      " - 350s - loss: 0.3190 - acc: 0.8622 - val_loss: 0.3794 - val_acc: 0.8364\n",
      "\n",
      "Epoch 00041: acc did not improve from 0.86335\n",
      "Epoch 42/50\n",
      " - 344s - loss: 0.3186 - acc: 0.8633 - val_loss: 0.3784 - val_acc: 0.8426\n",
      "\n",
      "Epoch 00042: acc did not improve from 0.86335\n",
      "Epoch 43/50\n",
      " - 368s - loss: 0.3158 - acc: 0.8613 - val_loss: 0.4077 - val_acc: 0.8298\n",
      "\n",
      "Epoch 00043: acc did not improve from 0.86335\n",
      "Epoch 44/50\n",
      " - 331s - loss: 0.3171 - acc: 0.8637 - val_loss: 0.3864 - val_acc: 0.8376\n",
      "\n",
      "Epoch 00044: acc improved from 0.86335 to 0.86370, saving model to cnn+lstm\n",
      "Epoch 45/50\n",
      " - 311s - loss: 0.3126 - acc: 0.8634 - val_loss: 0.3752 - val_acc: 0.8408\n",
      "\n",
      "Epoch 00045: acc did not improve from 0.86370\n",
      "Epoch 46/50\n",
      " - 310s - loss: 0.3100 - acc: 0.8639 - val_loss: 0.3778 - val_acc: 0.8380\n",
      "\n",
      "Epoch 00046: acc improved from 0.86370 to 0.86395, saving model to cnn+lstm\n",
      "Epoch 47/50\n",
      " - 312s - loss: 0.3085 - acc: 0.8658 - val_loss: 0.3932 - val_acc: 0.8440\n",
      "\n",
      "Epoch 00047: acc improved from 0.86395 to 0.86580, saving model to cnn+lstm\n",
      "Epoch 48/50\n",
      " - 298s - loss: 0.3099 - acc: 0.8628 - val_loss: 0.3897 - val_acc: 0.8420\n",
      "\n",
      "Epoch 00048: acc did not improve from 0.86580\n",
      "Epoch 49/50\n",
      " - 288s - loss: 0.3087 - acc: 0.8661 - val_loss: 0.4110 - val_acc: 0.8276\n",
      "\n",
      "Epoch 00049: acc improved from 0.86580 to 0.86610, saving model to cnn+lstm\n",
      "Epoch 50/50\n",
      " - 285s - loss: 0.3068 - acc: 0.8670 - val_loss: 0.3803 - val_acc: 0.8412\n",
      "\n",
      "Epoch 00050: acc improved from 0.86610 to 0.86695, saving model to cnn+lstm\n"
     ]
    }
   ],
   "source": [
    "history=model.fit(X_train_w2v,Y_train,batch_size=16,epochs=50,shuffle=True,verbose=2,validation_split=0.2,callbacks=[ model_checkpoint,reduce_lr,early_stopping])"
   ]
  },
  {
   "cell_type": "code",
   "execution_count": 75,
   "metadata": {},
   "outputs": [
    {
     "data": {
      "image/png": "[encoded data removed]",
      "text/plain": [
       "<matplotlib.figure.Figure at 0x26e1bc9d400>"
      ]
     },
     "metadata": {},
     "output_type": "display_data"
    }
   ],
   "source": [
    "# here we are plotting epochs vs. accuracy \n",
    "plt.plot(history.history['acc'])\n",
    "plt.plot(history.history['val_acc'])\n",
    "plt.title('model accuracy')\n",
    "plt.ylabel('accuracy')\n",
    "plt.xlabel('epoch')\n",
    "plt.legend(['train', 'test'], loc='upper left')\n",
    "plt.show()"
   ]
  },
  {
   "cell_type": "code",
   "execution_count": 76,
   "metadata": {},
   "outputs": [
    {
     "data": {
      "image/png": "[encoded data removed]",
      "text/plain": [
       "<matplotlib.figure.Figure at 0x26e1bc9d828>"
      ]
     },
     "metadata": {},
     "output_type": "display_data"
    }
   ],
   "source": [
    "# here we are plotting epochs vs. loss \n",
    "plt.plot(history.history['loss'])\n",
    "plt.plot(history.history['val_loss'])\n",
    "plt.title('model loss')\n",
    "plt.ylabel('loss')\n",
    "plt.xlabel('epoch')\n",
    "plt.legend(['train', 'test'], loc='upper left')\n",
    "plt.show()"
   ]
  },
  {
   "cell_type": "code",
   "execution_count": 77,
   "metadata": {},
   "outputs": [
    {
     "data": {
      "text/plain": [
       "[0.36505921387910845, 0.8476]"
      ]
     },
     "execution_count": 77,
     "metadata": {},
     "output_type": "execute_result"
    }
   ],
   "source": [
    "model.evaluate(X_test_w2v, Y_test, batch_size=16, verbose=2)"
   ]
  }
 ],
 "metadata": {
  "kernelspec": {
   "display_name": "Python 3",
   "language": "python",
   "name": "python3"
  },
  "language_info": {
   "codemirror_mode": {
    "name": "ipython",
    "version": 3
   },
   "file_extension": ".py",
   "mimetype": "text/x-python",
   "name": "python",
   "nbconvert_exporter": "python",
   "pygments_lexer": "ipython3",
   "version": "3.6.4"
  }
 },
 "nbformat": 4,
 "nbformat_minor": 2
}
